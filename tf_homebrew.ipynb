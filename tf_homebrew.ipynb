{
 "cells": [
  {
   "cell_type": "markdown",
   "id": "b63505c8-05b1-4842-ba12-76d23727c395",
   "metadata": {},
   "source": [
    "# Classifying Playing Cards"
   ]
  },
  {
   "cell_type": "code",
   "execution_count": 1,
   "id": "ec8c0eaa-3be4-4a20-af91-e6283157c87a",
   "metadata": {},
   "outputs": [],
   "source": [
    "import numpy as np\n",
    "import os \n",
    "import PIL\n",
    "import PIL.Image \n",
    "import tensorflow as tf\n",
    "import pathlib\n",
    "import matplotlib.pyplot as plt"
   ]
  },
  {
   "cell_type": "markdown",
   "id": "322b4ee0-3886-4781-b891-879c6b884201",
   "metadata": {},
   "source": [
    "## Importing the data from directory "
   ]
  },
  {
   "cell_type": "code",
   "execution_count": 2,
   "id": "ddb45fe1-057f-4560-a947-b3d91060b649",
   "metadata": {},
   "outputs": [],
   "source": [
    "local_data_dir = 'D:/card_data/cv_num_cards_deck/52kards'"
   ]
  },
  {
   "cell_type": "code",
   "execution_count": 3,
   "id": "2b2cfa84-7c5d-4060-9afe-bbfe8305e452",
   "metadata": {},
   "outputs": [],
   "source": [
    "img_height = 224\n",
    "img_width = 224\n",
    "img_size = (224, 224)\n",
    "batch_size = 32"
   ]
  },
  {
   "cell_type": "code",
   "execution_count": 4,
   "id": "beada7ae-300c-4059-91da-3fb6771ba819",
   "metadata": {
    "scrolled": true
   },
   "outputs": [
    {
     "name": "stdout",
     "output_type": "stream",
     "text": [
      "Found 4376 files belonging to 52 classes.\n",
      "Using 3501 files for training.\n"
     ]
    }
   ],
   "source": [
    "# Create the training dataset\n",
    "train_ds = tf.keras.utils.image_dataset_from_directory(\n",
    "    local_data_dir,\n",
    "    validation_split=0.2,\n",
    "    subset=\"training\",\n",
    "    seed=123,\n",
    "    image_size=(img_height, img_width), # specified the resizing \n",
    "    batch_size=batch_size) "
   ]
  },
  {
   "cell_type": "code",
   "execution_count": 5,
   "id": "300e83c9-b44a-4188-b90d-4ffe66d17c0c",
   "metadata": {},
   "outputs": [
    {
     "name": "stdout",
     "output_type": "stream",
     "text": [
      "Found 4376 files belonging to 52 classes.\n",
      "Using 875 files for validation.\n"
     ]
    }
   ],
   "source": [
    "# Create the validation dataset\n",
    "val_ds = tf.keras.utils.image_dataset_from_directory(\n",
    "    local_data_dir,\n",
    "    validation_split=0.2,\n",
    "    subset=\"validation\",\n",
    "    seed=123,\n",
    "    image_size=(img_height, img_width),\n",
    "    batch_size=batch_size)"
   ]
  },
  {
   "cell_type": "code",
   "execution_count": 6,
   "id": "07bb1b28-fd64-4a3c-aa05-7dad9ca6d619",
   "metadata": {},
   "outputs": [
    {
     "name": "stdout",
     "output_type": "stream",
     "text": [
      "['10c', '10d', '10h', '10s', '2c', '2d', '2h', '2s', '3c', '3d', '3h', '3s', '4c', '4d', '4h', '4s', '5c', '5d', '5h', '5s', '6c', '6d', '6h', '6s', '7c', '7d', '7h', '7s', '8c', '8d', '8h', '8s', '9c', '9d', '9h', '9s', 'Ac', 'Ad', 'Ah', 'As', 'Jc', 'Jd', 'Jh', 'Js', 'Kc', 'Kd', 'Kh', 'Ks', 'Qc', 'Qd', 'Qh', 'Qs']\n"
     ]
    }
   ],
   "source": [
    "class_names = train_ds.class_names\n",
    "print(class_names)"
   ]
  },
  {
   "cell_type": "code",
   "execution_count": 7,
   "id": "f3eed15f-8aab-49fd-8344-a1005c33bd52",
   "metadata": {},
   "outputs": [],
   "source": [
    "# visualize the first 9 images from the dataset\n",
    "# plt.figure(figsize=(10, 10))\n",
    "# for images, labels in train_ds.take(1):\n",
    "#   for i in range(9):\n",
    "#     ax = plt.subplot(3, 3, i + 1)\n",
    "#     plt.imshow(images[i].numpy().astype(\"uint8\"))\n",
    "#     plt.title(class_names[labels[i]])\n",
    "#     plt.axis(\"off\")"
   ]
  },
  {
   "cell_type": "code",
   "execution_count": 8,
   "id": "791356ca-87e3-41c9-a7a5-92d5529676fc",
   "metadata": {},
   "outputs": [],
   "source": [
    "# image preprocessing \n",
    "normalization_layer = tf.keras.layers.Rescaling(1./127.5, offset=-1)\n",
    "data_augmentation = tf.keras.Sequential([\n",
    "  tf.keras.layers.RandomFlip('horizontal'),\n",
    "  tf.keras.layers.RandomRotation(0.2),\n",
    "])\n",
    "normalized_ds = train_ds.map(lambda x, y: (normalization_layer(x), y))\n",
    "augmented_ds = normalized_ds # .map(lambda x, y: (data_augmentation(normalization_layer(x)), y))\n",
    "val_ds = val_ds.map(lambda x, y: (normalization_layer(x), y))\n",
    "# naming hasn't changed because of laziness "
   ]
  },
  {
   "cell_type": "code",
   "execution_count": 9,
   "id": "f71be929-01af-49cd-9327-67465ce8821e",
   "metadata": {},
   "outputs": [],
   "source": [
    "# need comments\n",
    "AUTOTUNE = tf.data.AUTOTUNE\n",
    "\n",
    "train_ds = train_ds.cache().prefetch(buffer_size=AUTOTUNE)\n",
    "val_ds = val_ds.cache().prefetch(buffer_size=AUTOTUNE)"
   ]
  },
  {
   "cell_type": "markdown",
   "id": "f0f83f61-3f5c-4145-a5df-90f2a644dca3",
   "metadata": {},
   "source": [
    "# Training our own Neural Network (not appropriate for classification with more classes - defunct)\n",
    "We're first going to try training our own convolutional neural network from scratch \n"
   ]
  },
  {
   "cell_type": "code",
   "execution_count": 10,
   "id": "dbb87a02-ee75-4f8f-988b-d49be0ec6f60",
   "metadata": {},
   "outputs": [],
   "source": [
    "num_classes = 52\n",
    "\n",
    "model_1 = tf.keras.Sequential([ # rescaling layer \n",
    "  tf.keras.layers.Conv2D(32, 3, activation='relu'), # relu activation function\n",
    "  tf.keras.layers.Conv2D(32, 3, activation='relu'), # convolution layer  \n",
    "  tf.keras.layers.MaxPooling2D(),\n",
    "  tf.keras.layers.Conv2D(32, 3, activation='relu'),\n",
    "  tf.keras.layers.Conv2D(32, 3, activation='relu'),\n",
    "  tf.keras.layers.Flatten(),\n",
    "  tf.keras.layers.Dense(128, activation='relu'),\n",
    "  tf.keras.layers.Dense(num_classes, activation='softmax')\n",
    "])"
   ]
  },
  {
   "cell_type": "code",
   "execution_count": 11,
   "id": "19ffecc0-0260-4975-aa9a-dfc370a0d534",
   "metadata": {},
   "outputs": [],
   "source": [
    "model_1.compile(\n",
    "  optimizer='adam',\n",
    "  loss=tf.keras.losses.SparseCategoricalCrossentropy(from_logits=False),\n",
    "  metrics=['accuracy'])"
   ]
  },
  {
   "cell_type": "code",
   "execution_count": 12,
   "id": "f3fc457c-7009-40f3-bf48-35e69654c029",
   "metadata": {},
   "outputs": [],
   "source": [
    "# model_1.fit(\n",
    "#   normalized_ds, # augmented_ds\n",
    "#   validation_data=val_ds,\n",
    "#   epochs=10\n",
    "# )"
   ]
  },
  {
   "cell_type": "markdown",
   "id": "ccfb45bd-f0b6-49b2-9e88-cfb4e7eaef2b",
   "metadata": {},
   "source": [
    "## Assessing predictions from our model"
   ]
  },
  {
   "cell_type": "code",
   "execution_count": 13,
   "id": "98bc223e-9770-4560-b2e1-e2344cee37ee",
   "metadata": {},
   "outputs": [],
   "source": [
    "def image_prediction(image_path, model):\n",
    "    image = PIL.Image.open(image_path).resize((img_width, img_height))\n",
    "    image_array = np.array(image) / 127.5 - 1  # Scale pixel values to -1 to 1\n",
    "    image_array = np.expand_dims(image_array, axis=0)  # Add a batch dimension\n",
    "    predictions = model.predict(image_array)\n",
    "    probabilities = tf.nn.softmax(predictions[0])  # Apply softmax to convert logits to probabilities\n",
    "    predicted_class = np.argmax(probabilities)  # Get the index of the highest probability\n",
    "    print(f\"Predicted class: {predicted_class}, Probability: {probabilities[predicted_class]}\")"
   ]
  },
  {
   "cell_type": "code",
   "execution_count": 14,
   "id": "49a630d1-5bd6-46e0-8566-86ad81f7b491",
   "metadata": {},
   "outputs": [
    {
     "name": "stdout",
     "output_type": "stream",
     "text": [
      "1/1 [==============================] - 1s 532ms/step\n",
      "Predicted class: 2, Probability: 0.01927671954035759\n"
     ]
    }
   ],
   "source": [
    "image_prediction(\"D:/card_data/cv_num_cards_deck/test_images/2c/IMG_E0924.JPG\", model_1)"
   ]
  },
  {
   "cell_type": "code",
   "execution_count": 15,
   "id": "17448c0b-2ad9-4399-8d55-1c3374e23a86",
   "metadata": {},
   "outputs": [
    {
     "data": {
      "text/plain": [
       "'2s'"
      ]
     },
     "execution_count": 15,
     "metadata": {},
     "output_type": "execute_result"
    }
   ],
   "source": [
    "class_names[7]"
   ]
  },
  {
   "cell_type": "code",
   "execution_count": 16,
   "id": "a963611d-8940-44e8-820e-ff995a42603d",
   "metadata": {},
   "outputs": [
    {
     "name": "stdout",
     "output_type": "stream",
     "text": [
      "1/1 [==============================] - 0s 51ms/step\n",
      "Predicted class: 2, Probability: 0.019275179132819176\n"
     ]
    }
   ],
   "source": [
    "image_prediction(\"D:/card_data/cv_num_cards_deck/test_images/6h/IMG_E0925.JPG\", model_1)"
   ]
  },
  {
   "cell_type": "code",
   "execution_count": 17,
   "id": "e9650a59-9df7-40f0-abc2-ea356a6a67f8",
   "metadata": {},
   "outputs": [
    {
     "data": {
      "text/plain": [
       "'7h'"
      ]
     },
     "execution_count": 17,
     "metadata": {},
     "output_type": "execute_result"
    }
   ],
   "source": [
    "class_names[26]"
   ]
  },
  {
   "cell_type": "markdown",
   "id": "132c32d3-e791-4360-86fb-7f645f1c33b4",
   "metadata": {},
   "source": [
    "Our model is assessing all three classes as the same class with very similar probability."
   ]
  },
  {
   "cell_type": "markdown",
   "id": "93855980-a735-4544-a5f1-606583b3624d",
   "metadata": {},
   "source": [
    "# Model 2 "
   ]
  },
  {
   "cell_type": "code",
   "execution_count": 18,
   "id": "a70e78c0-159c-426b-945c-29b6b354d307",
   "metadata": {},
   "outputs": [],
   "source": [
    "def image_prediction(image_path, model, class_names, img_width=224, img_height=224):\n",
    "    image = PIL.Image.open(image_path).resize((img_width, img_height)).convert('RGB')\n",
    "    image_array = np.array(image) / 127.5 - 1  # Scale pixel values to -1 to 1\n",
    "    image_array = np.expand_dims(image_array, axis=0)  # Add a batch dimension\n",
    "\n",
    "    predictions = model.predict(image_array)\n",
    "    \n",
    "    # Since the model's final layer uses a softmax activation, predictions are already in probability form\n",
    "    predicted_class = np.argmax(predictions[0])  # Get the index of the highest probability class\n",
    "    probability = predictions[0][predicted_class]  # Get the probability of the predicted class\n",
    "    \n",
    "    print(f\"Predicted class: {predicted_class}, Probability: {probability}, Class: {class_names[predicted_class]}\")\n",
    "    return predicted_class, probability"
   ]
  },
  {
   "cell_type": "code",
   "execution_count": 19,
   "id": "69240d81-548d-4d97-990b-08365f67d114",
   "metadata": {},
   "outputs": [],
   "source": [
    "epochs=20"
   ]
  },
  {
   "cell_type": "code",
   "execution_count": 20,
   "id": "31870b91-21d6-43d8-897b-443c1be089f1",
   "metadata": {},
   "outputs": [],
   "source": [
    "# model_2 = tf.keras.models.Sequential([\n",
    "#     tf.keras.layers.Conv2D(64, (3,3), activation='relu'),\n",
    "#     tf.keras.layers.MaxPooling2D(2, 2),\n",
    "#     tf.keras.layers.Conv2D(64, (3,3), activation='relu'),\n",
    "#     tf.keras.layers.MaxPooling2D(2,2),\n",
    "#     tf.keras.layers.Conv2D(128, (3,3), activation='relu'),\n",
    "#     tf.keras.layers.MaxPooling2D(2,2),\n",
    "#     tf.keras.layers.Conv2D(128, (3,3), activation='relu'),\n",
    "#     tf.keras.layers.MaxPooling2D(2,2),\n",
    "#     tf.keras.layers.Flatten(),\n",
    "#     tf.keras.layers.Dropout(0.5),\n",
    "#     tf.keras.layers.Dense(512, activation='relu'),\n",
    "#     tf.keras.layers.Dense(52, activation='softmax')\n",
    "# ])"
   ]
  },
  {
   "cell_type": "code",
   "execution_count": 21,
   "id": "983fb388-ba0c-4521-bacc-527e7e4a137c",
   "metadata": {},
   "outputs": [],
   "source": [
    "# model_2 = tf.keras.models.Sequential([\n",
    "#     tf.keras.layers.Conv2D(64, (3,3), activation='relu', input_shape=(224, 224, 3)), # change to input shape changed training time \n",
    "#     tf.keras.layers.MaxPooling2D(2, 2),\n",
    "#     tf.keras.layers.Conv2D(64, (3,3), activation='relu'),\n",
    "#     tf.keras.layers.MaxPooling2D(2,2),\n",
    "#     tf.keras.layers.Conv2D(128, (3,3), activation='relu'),\n",
    "#     tf.keras.layers.MaxPooling2D(2,2),\n",
    "#     tf.keras.layers.Conv2D(128, (3,3), activation='relu'),\n",
    "#     tf.keras.layers.MaxPooling2D(2,2),\n",
    "#     tf.keras.layers.Flatten(),\n",
    "#     tf.keras.layers.Dropout(0.5),\n",
    "#     tf.keras.layers.Dense(512, activation='relu'),\n",
    "#     tf.keras.layers.Dense(52, activation='softmax')\n",
    "# ])"
   ]
  },
  {
   "cell_type": "code",
   "execution_count": 22,
   "id": "323578f0-9cbe-4013-87bb-15bb0d1b0a8a",
   "metadata": {},
   "outputs": [],
   "source": [
    "model_2 = tf.keras.models.Sequential([\n",
    "    tf.keras.layers.Conv2D(64, (3,3), activation='relu', input_shape=(224, 224, 3)), # change to input shape changed training time \n",
    "    tf.keras.layers.MaxPooling2D(2,2),\n",
    "    tf.keras.layers.Conv2D(128, (3,3), activation='relu'),\n",
    "    tf.keras.layers.MaxPooling2D(2,2),\n",
    "    tf.keras.layers.Conv2D(128, (3,3), activation='relu'),\n",
    "    tf.keras.layers.MaxPooling2D(2,2),\n",
    "    tf.keras.layers.Flatten(),\n",
    "    tf.keras.layers.Dropout(0.5),\n",
    "    tf.keras.layers.Dense(512, activation='relu'),\n",
    "    tf.keras.layers.Dense(52, activation='softmax')\n",
    "])"
   ]
  },
  {
   "cell_type": "code",
   "execution_count": 23,
   "id": "8dafb95c-69a4-4751-94f5-29876b17e7a3",
   "metadata": {},
   "outputs": [],
   "source": [
    "model_2.compile(loss = 'sparse_categorical_crossentropy', optimizer='rmsprop', metrics=['accuracy'])"
   ]
  },
  {
   "cell_type": "code",
   "execution_count": 24,
   "id": "19470844-0113-44ff-9c90-924a5eee8d67",
   "metadata": {},
   "outputs": [
    {
     "name": "stdout",
     "output_type": "stream",
     "text": [
      "Epoch 1/10\n",
      "110/110 [==============================] - 217s 2s/step - loss: 3.7147 - accuracy: 0.1151 - val_loss: 2.2596 - val_accuracy: 0.2926\n",
      "Epoch 2/10\n",
      "110/110 [==============================] - 216s 2s/step - loss: 1.3056 - accuracy: 0.5767 - val_loss: 1.4735 - val_accuracy: 0.5669\n",
      "Epoch 3/10\n",
      "110/110 [==============================] - 212s 2s/step - loss: 0.4242 - accuracy: 0.8695 - val_loss: 2.5038 - val_accuracy: 0.5063\n",
      "Epoch 4/10\n",
      "110/110 [==============================] - 211s 2s/step - loss: 0.1819 - accuracy: 0.9512 - val_loss: 1.5269 - val_accuracy: 0.6160\n",
      "Epoch 5/10\n",
      "110/110 [==============================] - 207s 2s/step - loss: 0.1128 - accuracy: 0.9677 - val_loss: 1.9431 - val_accuracy: 0.6606\n",
      "Epoch 6/10\n",
      "110/110 [==============================] - 195s 2s/step - loss: 0.0809 - accuracy: 0.9803 - val_loss: 1.9365 - val_accuracy: 0.6389\n",
      "Epoch 7/10\n",
      "110/110 [==============================] - 197s 2s/step - loss: 0.0501 - accuracy: 0.9877 - val_loss: 2.0696 - val_accuracy: 0.6743\n",
      "Epoch 8/10\n",
      "110/110 [==============================] - 197s 2s/step - loss: 0.0914 - accuracy: 0.9780 - val_loss: 1.6522 - val_accuracy: 0.7097\n",
      "Epoch 9/10\n",
      "110/110 [==============================] - 202s 2s/step - loss: 0.0417 - accuracy: 0.9857 - val_loss: 2.1118 - val_accuracy: 0.6754\n",
      "Epoch 10/10\n",
      "110/110 [==============================] - 194s 2s/step - loss: 0.0467 - accuracy: 0.9889 - val_loss: 2.0691 - val_accuracy: 0.6994\n"
     ]
    },
    {
     "data": {
      "text/plain": [
       "<keras.callbacks.History at 0x1ca81010340>"
      ]
     },
     "execution_count": 24,
     "metadata": {},
     "output_type": "execute_result"
    }
   ],
   "source": [
    "model_2.fit(\n",
    "  normalized_ds, # augmented_ds\n",
    "  validation_data=val_ds,\n",
    "  epochs=10\n",
    ")"
   ]
  },
  {
   "cell_type": "code",
   "execution_count": 25,
   "id": "9fd7f42b-e4be-4274-923a-79c7977ae557",
   "metadata": {},
   "outputs": [
    {
     "name": "stdout",
     "output_type": "stream",
     "text": [
      "1/1 [==============================] - 0s 80ms/step\n",
      "Predicted class: 4, Probability: 0.7655242085456848, Class: 2c\n"
     ]
    },
    {
     "data": {
      "text/plain": [
       "(4, 0.7655242)"
      ]
     },
     "execution_count": 25,
     "metadata": {},
     "output_type": "execute_result"
    }
   ],
   "source": [
    "image_prediction(\"D:/card_data/cv_num_cards_deck/test_images/2c/IMG_E0924.JPG\", model_2, class_names)"
   ]
  },
  {
   "cell_type": "code",
   "execution_count": 26,
   "id": "0ba801af-232d-472b-b033-b97d09aa5f24",
   "metadata": {},
   "outputs": [
    {
     "data": {
      "text/plain": [
       "'2c'"
      ]
     },
     "execution_count": 26,
     "metadata": {},
     "output_type": "execute_result"
    }
   ],
   "source": [
    "class_names[4]"
   ]
  },
  {
   "cell_type": "code",
   "execution_count": 27,
   "id": "0a5eb7f3-cbc3-4d61-93f6-4dd2a26a66e5",
   "metadata": {},
   "outputs": [],
   "source": [
    "# image = PIL.Image.open(image_path).resize((img_width, img_height))"
   ]
  },
  {
   "cell_type": "code",
   "execution_count": 28,
   "id": "6d812daa-aa59-4bed-b901-bc260a633771",
   "metadata": {},
   "outputs": [
    {
     "name": "stdout",
     "output_type": "stream",
     "text": [
      "1/1 [==============================] - 0s 43ms/step\n",
      "Predicted class: 22, Probability: 0.9988002777099609, Class: 6h\n"
     ]
    },
    {
     "data": {
      "text/plain": [
       "(22, 0.9988003)"
      ]
     },
     "execution_count": 28,
     "metadata": {},
     "output_type": "execute_result"
    }
   ],
   "source": [
    "image_prediction(\"D:/card_data/cv_num_cards_deck/test_images/6h/IMG_E0925.JPG\", model_2, class_names)"
   ]
  },
  {
   "cell_type": "code",
   "execution_count": 29,
   "id": "68f2d9bd-e2d0-4f6f-9b1e-1971ab35390e",
   "metadata": {},
   "outputs": [
    {
     "data": {
      "text/plain": [
       "'6h'"
      ]
     },
     "execution_count": 29,
     "metadata": {},
     "output_type": "execute_result"
    }
   ],
   "source": [
    "class_names[22]"
   ]
  },
  {
   "cell_type": "markdown",
   "id": "2e3a53d7-3767-48d2-b1df-b025ae944660",
   "metadata": {},
   "source": [
    "Alistair's Cards"
   ]
  },
  {
   "cell_type": "code",
   "execution_count": 30,
   "id": "616de8de-b9e9-4bac-ab83-6fae6a70be21",
   "metadata": {},
   "outputs": [
    {
     "name": "stdout",
     "output_type": "stream",
     "text": [
      "1/1 [==============================] - 0s 43ms/step\n",
      "Predicted class: 22, Probability: 1.0, Class: 6h\n"
     ]
    },
    {
     "data": {
      "text/plain": [
       "(22, 1.0)"
      ]
     },
     "execution_count": 30,
     "metadata": {},
     "output_type": "execute_result"
    }
   ],
   "source": [
    "image_prediction(\"D:/card_data/cv_num_cards_deck/test_images/6d/Image20240325150136.PNG\", model_2, class_names)"
   ]
  },
  {
   "cell_type": "code",
   "execution_count": 31,
   "id": "3602bc77-6b78-45f3-9f30-cf4729b8747a",
   "metadata": {},
   "outputs": [
    {
     "name": "stdout",
     "output_type": "stream",
     "text": [
      "1/1 [==============================] - 0s 43ms/step\n",
      "Predicted class: 50, Probability: 0.998157799243927, Class: Qh\n"
     ]
    },
    {
     "data": {
      "text/plain": [
       "(50, 0.9981578)"
      ]
     },
     "execution_count": 31,
     "metadata": {},
     "output_type": "execute_result"
    }
   ],
   "source": [
    "image_prediction(\"D:/card_data/cv_num_cards_deck/test_images/Qh/Image20240325150115.PNG\", model_2, class_names)"
   ]
  },
  {
   "cell_type": "code",
   "execution_count": 32,
   "id": "60278dc8-1ba5-4a14-8753-f0d80b8ae496",
   "metadata": {},
   "outputs": [
    {
     "name": "stdout",
     "output_type": "stream",
     "text": [
      "1/1 [==============================] - 0s 43ms/step\n",
      "Predicted class: 22, Probability: 1.0, Class: 6h\n"
     ]
    },
    {
     "data": {
      "text/plain": [
       "(22, 1.0)"
      ]
     },
     "execution_count": 32,
     "metadata": {},
     "output_type": "execute_result"
    }
   ],
   "source": [
    "image_prediction(\"D:/card_data/cv_num_cards_deck/test_images/6d/Image20240325150136.PNG\", model_2, class_names)"
   ]
  },
  {
   "cell_type": "code",
   "execution_count": 33,
   "id": "ed0e9c4f-32c5-417d-b60e-f0dcaa2640d9",
   "metadata": {},
   "outputs": [
    {
     "name": "stdout",
     "output_type": "stream",
     "text": [
      "1/1 [==============================] - 0s 43ms/step\n",
      "Predicted class: 36, Probability: 1.0, Class: Ac\n"
     ]
    },
    {
     "data": {
      "text/plain": [
       "(36, 1.0)"
      ]
     },
     "execution_count": 33,
     "metadata": {},
     "output_type": "execute_result"
    }
   ],
   "source": [
    "image_prediction(\"D:/card_data/cv_num_cards_deck/test_images/Ad/Image20240325150935.PNG\", model_2, class_names)"
   ]
  },
  {
   "cell_type": "code",
   "execution_count": 34,
   "id": "95e6924f-70f2-4442-85b2-23463039da3d",
   "metadata": {},
   "outputs": [
    {
     "name": "stdout",
     "output_type": "stream",
     "text": [
      "1/1 [==============================] - 0s 44ms/step\n",
      "Predicted class: 13, Probability: 0.9869118928909302, Class: 4d\n"
     ]
    },
    {
     "data": {
      "text/plain": [
       "(13, 0.9869119)"
      ]
     },
     "execution_count": 34,
     "metadata": {},
     "output_type": "execute_result"
    }
   ],
   "source": [
    "image_prediction(\"D:/card_data/cv_num_cards_deck/test_images/4h/Image20240325150932.PNG\", model_2, class_names)"
   ]
  },
  {
   "cell_type": "code",
   "execution_count": 35,
   "id": "6aa30254-33c2-407c-8ec2-53b20a9e0849",
   "metadata": {},
   "outputs": [
    {
     "name": "stdout",
     "output_type": "stream",
     "text": [
      "1/1 [==============================] - 0s 43ms/step\n",
      "Predicted class: 24, Probability: 0.998310923576355, Class: 7c\n"
     ]
    },
    {
     "data": {
      "text/plain": [
       "(24, 0.9983109)"
      ]
     },
     "execution_count": 35,
     "metadata": {},
     "output_type": "execute_result"
    }
   ],
   "source": [
    "image_prediction(\"D:/card_data/cv_num_cards_deck/test_images/9s/Image20240325150930.PNG\", model_2, class_names)"
   ]
  }
 ],
 "metadata": {
  "kernelspec": {
   "display_name": "Python 3 (ipykernel)",
   "language": "python",
   "name": "python3"
  },
  "language_info": {
   "codemirror_mode": {
    "name": "ipython",
    "version": 3
   },
   "file_extension": ".py",
   "mimetype": "text/x-python",
   "name": "python",
   "nbconvert_exporter": "python",
   "pygments_lexer": "ipython3",
   "version": "3.9.18"
  }
 },
 "nbformat": 4,
 "nbformat_minor": 5
}
