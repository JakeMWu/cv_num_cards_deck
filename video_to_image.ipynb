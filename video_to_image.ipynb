{
 "cells": [
  {
   "cell_type": "code",
   "execution_count": 1,
   "id": "3135f630-3a21-4aeb-b99e-009266388299",
   "metadata": {},
   "outputs": [],
   "source": [
    "import cv2\n",
    "import os"
   ]
  },
  {
   "cell_type": "code",
   "execution_count": 2,
   "id": "e30720ab-00ea-4f9c-b245-d6afa25f03a1",
   "metadata": {},
   "outputs": [],
   "source": [
    "videos13 = ['1-13/Videos/' + x for x in os.listdir('1-13/Videos')]\n",
    "videos39 = ['14-39/Videos/' + x for x in os.listdir('14-39/Videos')]\n",
    "videos52 = ['40-52/Videos/' + x for x in os.listdir('40-52/Videos')]"
   ]
  },
  {
   "cell_type": "code",
   "execution_count": 3,
   "id": "04346ed5-1004-4eff-9f18-cb196b2ed889",
   "metadata": {},
   "outputs": [],
   "source": [
    "def video_to_image(path_list, save_destination=''):\n",
    "    \"\"\"\n",
    "    Takes a list of paths to videos and splits each video in turn into its constituent images\n",
    "    \"\"\"\n",
    "    for video in path_list:\n",
    "        videocv = cv2.VideoCapture(video)\n",
    "        count = 0 \n",
    "\n",
    "        while True:\n",
    "            success, image = videocv.read() # tracks succes of reading \n",
    "            if not success: # if there isn't a next frame we break\n",
    "                break\n",
    "            image_filename = f\"{save_destination}/{video.split('/')[2].split('.')[0]}_frame_{count:04}.jpg.jpg\"\n",
    "            cv2.imwrite(image_filename, image)\n",
    "            count += 1 # iterating to next frame \n",
    "            \n",
    "        videocv.release()"
   ]
  },
  {
   "cell_type": "code",
   "execution_count": 6,
   "id": "c93d56ca-fe98-42ea-8e45-8e26fd627bb6",
   "metadata": {},
   "outputs": [],
   "source": [
    "video_to_image(videos13, 'images/1-13')\n",
    "video_to_image(videos39, 'images/14-39')\n",
    "video_to_image(videos52, 'images/40-52')"
   ]
  }
 ],
 "metadata": {
  "kernelspec": {
   "display_name": "Python 3 (ipykernel)",
   "language": "python",
   "name": "python3"
  },
  "language_info": {
   "codemirror_mode": {
    "name": "ipython",
    "version": 3
   },
   "file_extension": ".py",
   "mimetype": "text/x-python",
   "name": "python",
   "nbconvert_exporter": "python",
   "pygments_lexer": "ipython3",
   "version": "3.9.18"
  }
 },
 "nbformat": 4,
 "nbformat_minor": 5
}
