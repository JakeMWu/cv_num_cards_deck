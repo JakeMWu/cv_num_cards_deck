{
 "cells": [
  {
   "cell_type": "code",
   "execution_count": 18,
   "id": "8c69973b-7494-4aac-9860-b5760aa76447",
   "metadata": {},
   "outputs": [],
   "source": [
    "import os "
   ]
  },
  {
   "cell_type": "code",
   "execution_count": 13,
   "id": "91ced0e9-94b1-4aca-8aa1-5687c7d0a7de",
   "metadata": {},
   "outputs": [],
   "source": [
    "value_list = [str(x+2) for x in range(9)]\n",
    "value_list.extend(['K', 'Q', 'J', 'A'])\n",
    "suit_list = ['d', 's', 'h', 'c']"
   ]
  },
  {
   "cell_type": "code",
   "execution_count": 14,
   "id": "cd53af89-58b9-4d85-b6ed-1af886d8d969",
   "metadata": {},
   "outputs": [],
   "source": [
    "kards_52 = [x + y for x in value_list for y in suit_list]"
   ]
  },
  {
   "cell_type": "code",
   "execution_count": 16,
   "id": "2ddd9412-43fc-41f6-b9a4-5d8b0a558326",
   "metadata": {},
   "outputs": [
    {
     "name": "stdout",
     "output_type": "stream",
     "text": [
      "['2d', '2s', '2h', '2c', '3d', '3s', '3h', '3c', '4d', '4s', '4h', '4c', '5d', '5s', '5h', '5c', '6d', '6s', '6h', '6c', '7d', '7s', '7h', '7c', '8d', '8s', '8h', '8c', '9d', '9s', '9h', '9c', '10d', '10s', '10h', '10c', 'Kd', 'Ks', 'Kh', 'Kc', 'Qd', 'Qs', 'Qh', 'Qc', 'Jd', 'Js', 'Jh', 'Jc', 'Ad', 'As', 'Ah', 'Ac']\n"
     ]
    }
   ],
   "source": [
    "print(kards_52)"
   ]
  },
  {
   "cell_type": "code",
   "execution_count": 19,
   "id": "fc0e5874-ce78-4c74-8216-43a2b4b66a34",
   "metadata": {},
   "outputs": [],
   "source": [
    "for card in kards_52:\n",
    "    os.mkdir(f\"52kards/{card}\")"
   ]
  }
 ],
 "metadata": {
  "kernelspec": {
   "display_name": "Python 3 (ipykernel)",
   "language": "python",
   "name": "python3"
  },
  "language_info": {
   "codemirror_mode": {
    "name": "ipython",
    "version": 3
   },
   "file_extension": ".py",
   "mimetype": "text/x-python",
   "name": "python",
   "nbconvert_exporter": "python",
   "pygments_lexer": "ipython3",
   "version": "3.9.18"
  }
 },
 "nbformat": 4,
 "nbformat_minor": 5
}
