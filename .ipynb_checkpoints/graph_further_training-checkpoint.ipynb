{
 "cells": [
  {
   "cell_type": "code",
   "execution_count": 13,
   "id": "a7dabd24-c230-480d-8122-a6b988bbb2f7",
   "metadata": {},
   "outputs": [
    {
     "name": "stdout",
     "output_type": "stream",
     "text": [
      "The tensorboard extension is already loaded. To reload it, use:\n",
      "  %reload_ext tensorboard\n"
     ]
    }
   ],
   "source": [
    "import tensorflow as tf\n",
    "from tensorflow import keras\n",
    "from PIL import Image\n",
    "import numpy as np\n",
    "import time \n",
    "from datetime import datetime\n",
    "from packaging import version\n",
    "%load_ext tensorboard\n",
    "import tensorboard"
   ]
  },
  {
   "cell_type": "markdown",
   "id": "4da8a49d-cda2-48c2-8914-216abd5b6396",
   "metadata": {},
   "source": [
    "## Load Model and Training Data "
   ]
  },
  {
   "cell_type": "code",
   "execution_count": 6,
   "id": "51f4382e-bc5c-41ea-9a6b-412d7eab4137",
   "metadata": {},
   "outputs": [
    {
     "name": "stdout",
     "output_type": "stream",
     "text": [
      "Found 12304 files belonging to 52 classes.\n",
      "Using 9844 files for training.\n"
     ]
    }
   ],
   "source": [
    "local_data_dir = 'D:/card_data/cv_num_cards_deck/52kards'\n",
    "img_height = 224\n",
    "img_width = 224\n",
    "img_size = (224, 224)\n",
    "batch_size = 32\n",
    "# Create the training dataset\n",
    "train_ds = tf.keras.utils.image_dataset_from_directory(\n",
    "    local_data_dir,\n",
    "    validation_split=0.2,\n",
    "    subset=\"training\",\n",
    "    seed=123,\n",
    "    image_size=(img_height, img_width), # specified the resizing \n",
    "    batch_size=batch_size) "
   ]
  },
  {
   "cell_type": "code",
   "execution_count": 7,
   "id": "d706ec2c-1003-474e-9227-360e2da30822",
   "metadata": {},
   "outputs": [
    {
     "name": "stdout",
     "output_type": "stream",
     "text": [
      "Found 12304 files belonging to 52 classes.\n",
      "Using 2460 files for validation.\n"
     ]
    }
   ],
   "source": [
    "# Create the validation dataset\n",
    "val_ds = tf.keras.utils.image_dataset_from_directory(\n",
    "    local_data_dir,\n",
    "    validation_split=0.2,\n",
    "    subset=\"validation\",\n",
    "    seed=123,\n",
    "    image_size=(img_height, img_width),\n",
    "    batch_size=batch_size)"
   ]
  },
  {
   "cell_type": "code",
   "execution_count": 15,
   "id": "133a7c9e-1fb6-4300-a2ce-1fd974913226",
   "metadata": {},
   "outputs": [],
   "source": [
    "normalization_layer = tf.keras.layers.Rescaling(1./255) # 1./127.5, offset=-1\n",
    "train_ds = train_ds.map(lambda x, y: (normalization_layer(x), y))\n",
    "val_ds = val_ds.map(lambda x, y: (normalization_layer(x), y))"
   ]
  },
  {
   "cell_type": "code",
   "execution_count": 8,
   "id": "6bcc15d5-9884-4336-bf4a-281c88745030",
   "metadata": {},
   "outputs": [],
   "source": [
    "class_names = train_ds.class_names"
   ]
  },
  {
   "cell_type": "code",
   "execution_count": 3,
   "id": "3757d087-b236-4c3f-bb1f-1ae2e3303dc7",
   "metadata": {},
   "outputs": [],
   "source": [
    "MODEL_PATH = 'models/model_to_use'\n",
    "model = tf.keras.models.load_model(MODEL_PATH)"
   ]
  },
  {
   "cell_type": "markdown",
   "id": "4cb9acb3-ebed-4a53-a6a5-191d635a8c86",
   "metadata": {},
   "source": [
    "## Graph Layers "
   ]
  },
  {
   "cell_type": "code",
   "execution_count": null,
   "id": "3e078e96-bf16-4acb-a976-5b85fb014695",
   "metadata": {},
   "outputs": [
    {
     "name": "stdout",
     "output_type": "stream",
     "text": [
      "Epoch 1/10\n",
      "308/308 [==============================] - 137s 442ms/step - loss: 0.0406 - accuracy: 0.9875\n",
      "Epoch 2/10\n",
      " 78/308 [======>.......................] - ETA: 1:42 - loss: 0.0483 - accuracy: 0.9840"
     ]
    }
   ],
   "source": [
    "# Define the Keras TensorBoard callback.\n",
    "logdir=\"logs/fit/\" + datetime.now().strftime(\"%Y%m%d-%H%M%S\")\n",
    "tensorboard_callback = keras.callbacks.TensorBoard(log_dir=logdir)\n",
    "\n",
    "# Train the model.\n",
    "model.fit(\n",
    "    train_ds,\n",
    "    batch_size=batch_size,\n",
    "    epochs=10,\n",
    "    validation_data=val_ds,\n",
    "    callbacks=[tensorboard_callback])"
   ]
  },
  {
   "cell_type": "code",
   "execution_count": null,
   "id": "072e5b9c-c227-4112-abd6-e5e53fa665cb",
   "metadata": {},
   "outputs": [],
   "source": [
    "%tensorboard --logdir logs"
   ]
  }
 ],
 "metadata": {
  "kernelspec": {
   "display_name": "Python 3 (ipykernel)",
   "language": "python",
   "name": "python3"
  },
  "language_info": {
   "codemirror_mode": {
    "name": "ipython",
    "version": 3
   },
   "file_extension": ".py",
   "mimetype": "text/x-python",
   "name": "python",
   "nbconvert_exporter": "python",
   "pygments_lexer": "ipython3",
   "version": "3.9.18"
  }
 },
 "nbformat": 4,
 "nbformat_minor": 5
}
