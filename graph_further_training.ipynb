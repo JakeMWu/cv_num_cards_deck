{
 "cells": [
  {
   "cell_type": "code",
   "execution_count": 13,
   "id": "a7dabd24-c230-480d-8122-a6b988bbb2f7",
   "metadata": {},
   "outputs": [
    {
     "name": "stdout",
     "output_type": "stream",
     "text": [
      "The tensorboard extension is already loaded. To reload it, use:\n",
      "  %reload_ext tensorboard\n"
     ]
    }
   ],
   "source": [
    "import tensorflow as tf\n",
    "from tensorflow import keras\n",
    "from PIL import Image\n",
    "import numpy as np\n",
    "import time \n",
    "from datetime import datetime\n",
    "from packaging import version\n",
    "%load_ext tensorboard\n",
    "import tensorboard"
   ]
  },
  {
   "cell_type": "markdown",
   "id": "4da8a49d-cda2-48c2-8914-216abd5b6396",
   "metadata": {},
   "source": [
    "## Load Model and Training Data "
   ]
  },
  {
   "cell_type": "code",
   "execution_count": 6,
   "id": "51f4382e-bc5c-41ea-9a6b-412d7eab4137",
   "metadata": {},
   "outputs": [
    {
     "name": "stdout",
     "output_type": "stream",
     "text": [
      "Found 12304 files belonging to 52 classes.\n",
      "Using 9844 files for training.\n"
     ]
    }
   ],
   "source": [
    "local_data_dir = 'D:/card_data/cv_num_cards_deck/52kards'\n",
    "img_height = 224\n",
    "img_width = 224\n",
    "img_size = (224, 224)\n",
    "batch_size = 32\n",
    "# Create the training dataset\n",
    "train_ds = tf.keras.utils.image_dataset_from_directory(\n",
    "    local_data_dir,\n",
    "    validation_split=0.2,\n",
    "    subset=\"training\",\n",
    "    seed=123,\n",
    "    image_size=(img_height, img_width), # specified the resizing \n",
    "    batch_size=batch_size) "
   ]
  },
  {
   "cell_type": "code",
   "execution_count": 7,
   "id": "d706ec2c-1003-474e-9227-360e2da30822",
   "metadata": {},
   "outputs": [
    {
     "name": "stdout",
     "output_type": "stream",
     "text": [
      "Found 12304 files belonging to 52 classes.\n",
      "Using 2460 files for validation.\n"
     ]
    }
   ],
   "source": [
    "# Create the validation dataset\n",
    "val_ds = tf.keras.utils.image_dataset_from_directory(\n",
    "    local_data_dir,\n",
    "    validation_split=0.2,\n",
    "    subset=\"validation\",\n",
    "    seed=123,\n",
    "    image_size=(img_height, img_width),\n",
    "    batch_size=batch_size)"
   ]
  },
  {
   "cell_type": "code",
   "execution_count": 15,
   "id": "133a7c9e-1fb6-4300-a2ce-1fd974913226",
   "metadata": {},
   "outputs": [],
   "source": [
    "normalization_layer = tf.keras.layers.Rescaling(1./255) # 1./127.5, offset=-1\n",
    "train_ds = train_ds.map(lambda x, y: (normalization_layer(x), y))\n",
    "val_ds = val_ds.map(lambda x, y: (normalization_layer(x), y))"
   ]
  },
  {
   "cell_type": "code",
   "execution_count": 8,
   "id": "6bcc15d5-9884-4336-bf4a-281c88745030",
   "metadata": {},
   "outputs": [],
   "source": [
    "class_names = train_ds.class_names"
   ]
  },
  {
   "cell_type": "code",
   "execution_count": 3,
   "id": "3757d087-b236-4c3f-bb1f-1ae2e3303dc7",
   "metadata": {},
   "outputs": [],
   "source": [
    "MODEL_PATH = 'models/model_to_use'\n",
    "model = tf.keras.models.load_model(MODEL_PATH)"
   ]
  },
  {
   "cell_type": "markdown",
   "id": "4cb9acb3-ebed-4a53-a6a5-191d635a8c86",
   "metadata": {},
   "source": [
    "## Graph Layers "
   ]
  },
  {
   "cell_type": "code",
   "execution_count": 27,
   "id": "3e078e96-bf16-4acb-a976-5b85fb014695",
   "metadata": {},
   "outputs": [
    {
     "name": "stdout",
     "output_type": "stream",
     "text": [
      "Epoch 1/2\n",
      "308/308 [==============================] - 160s 518ms/step - loss: 0.0205 - accuracy: 0.9939 - val_loss: 0.0746 - val_accuracy: 0.9805\n",
      "Epoch 2/2\n",
      "308/308 [==============================] - 155s 501ms/step - loss: 0.0306 - accuracy: 0.9911 - val_loss: 0.0932 - val_accuracy: 0.9724\n"
     ]
    },
    {
     "data": {
      "text/plain": [
       "<keras.callbacks.History at 0x193c4fc7580>"
      ]
     },
     "execution_count": 27,
     "metadata": {},
     "output_type": "execute_result"
    }
   ],
   "source": [
    "# Define the Keras TensorBoard callback.\n",
    "logdir=\"logs/fit/\" + datetime.now().strftime(\"%Y%m%d-%H%M%S\")\n",
    "tensorboard_callback = keras.callbacks.TensorBoard(log_dir=logdir)\n",
    "\n",
    "# Train the model.\n",
    "model.fit(\n",
    "    train_ds,\n",
    "    batch_size=batch_size,\n",
    "    epochs=2,\n",
    "    validation_data=val_ds,\n",
    "    callbacks=[tensorboard_callback])"
   ]
  },
  {
   "cell_type": "code",
   "execution_count": 18,
   "id": "072e5b9c-c227-4112-abd6-e5e53fa665cb",
   "metadata": {},
   "outputs": [
    {
     "data": {
      "text/html": [
       "\n",
       "      <iframe id=\"tensorboard-frame-a14327e30823d714\" width=\"100%\" height=\"800\" frameborder=\"0\">\n",
       "      </iframe>\n",
       "      <script>\n",
       "        (function() {\n",
       "          const frame = document.getElementById(\"tensorboard-frame-a14327e30823d714\");\n",
       "          const url = new URL(\"/\", window.location);\n",
       "          const port = 6006;\n",
       "          if (port) {\n",
       "            url.port = port;\n",
       "          }\n",
       "          frame.src = url;\n",
       "        })();\n",
       "      </script>\n",
       "    "
      ],
      "text/plain": [
       "<IPython.core.display.HTML object>"
      ]
     },
     "metadata": {},
     "output_type": "display_data"
    }
   ],
   "source": [
    "%tensorboard --logdir logs"
   ]
  },
  {
   "cell_type": "code",
   "execution_count": 19,
   "id": "3411ecf5-5ecc-4d96-ad10-1bb85c755d08",
   "metadata": {},
   "outputs": [],
   "source": [
    "def holdout_set(model):\n",
    "    \"\"\"\n",
    "    Test a model against the holdout set \n",
    "    \"\"\"\n",
    "    total = 0 \n",
    "    correct = 0 \n",
    "    test_dir = \"D:/card_data/cv_num_cards_deck/test_images/\"\n",
    "    predics = []\n",
    "    for card in os.listdir(test_dir):\n",
    "        card_path = os.path.join(test_dir, card)\n",
    "        images = os.listdir(card_path)\n",
    "        for image in images:\n",
    "            total += 1\n",
    "            image_path = os.path.join(card_path, image)\n",
    "            predict = image_prediction(image_path, model, class_names)\n",
    "            if card == predict:\n",
    "                correct += 1\n",
    "\n",
    "            \n",
    "            predics.append((card, predict))\n",
    "    print(predics)\n",
    "    print(f\"overall accuracy is {round((correct/total)*100, 2)}%. So {correct} correct out of {total}\")"
   ]
  },
  {
   "cell_type": "code",
   "execution_count": 23,
   "id": "d9a16cd5-d20a-487e-8476-f27c18aee804",
   "metadata": {},
   "outputs": [],
   "source": [
    "def image_prediction(image_path, model, class_names, img_width=224, img_height=224):\n",
    "    image = PIL.Image.open(image_path).resize((img_width, img_height)).convert('RGB')\n",
    "    image_array = np.array(image) / 255  # Scale pixel values to -1 to 1\n",
    "    image_array = np.expand_dims(image_array, axis=0)  # Add a batch dimension\n",
    "\n",
    "    predictions = model.predict(image_array)\n",
    "    \n",
    "    # Since the model's final layer uses a softmax activation, predictions are already in probability form\n",
    "    predicted_class = np.argmax(predictions[0])  # Get the index of the highest probability class\n",
    "    probability = predictions[0][predicted_class]  # Get the probability of the predicted class\n",
    "    \n",
    "    print(f\"Predicted class: {predicted_class}, Probability: {probability}, Class: {class_names[predicted_class]}\")\n",
    "    return class_names[predicted_class]"
   ]
  },
  {
   "cell_type": "code",
   "execution_count": 25,
   "id": "76698fc0-9597-4f15-bab4-f98f29d8a383",
   "metadata": {},
   "outputs": [],
   "source": [
    "import os\n",
    "import PIL"
   ]
  },
  {
   "cell_type": "code",
   "execution_count": 28,
   "id": "8946c733-f1bb-45c0-b989-aa60e2cf565b",
   "metadata": {},
   "outputs": [
    {
     "name": "stdout",
     "output_type": "stream",
     "text": [
      "1/1 [==============================] - 0s 25ms/step\n",
      "Predicted class: 0, Probability: 1.0, Class: 10c\n",
      "1/1 [==============================] - 0s 25ms/step\n",
      "Predicted class: 1, Probability: 0.9999966621398926, Class: 10d\n",
      "1/1 [==============================] - 0s 24ms/step\n",
      "Predicted class: 6, Probability: 0.9212932586669922, Class: 2h\n",
      "1/1 [==============================] - 0s 24ms/step\n",
      "Predicted class: 4, Probability: 0.9992203712463379, Class: 2c\n",
      "1/1 [==============================] - 0s 24ms/step\n",
      "Predicted class: 7, Probability: 1.0, Class: 2s\n",
      "1/1 [==============================] - 0s 24ms/step\n",
      "Predicted class: 10, Probability: 1.0, Class: 3h\n",
      "1/1 [==============================] - 0s 24ms/step\n",
      "Predicted class: 11, Probability: 0.9327682852745056, Class: 3s\n",
      "1/1 [==============================] - 0s 23ms/step\n",
      "Predicted class: 12, Probability: 1.0, Class: 4c\n",
      "1/1 [==============================] - 0s 24ms/step\n",
      "Predicted class: 15, Probability: 0.9985564351081848, Class: 4s\n",
      "1/1 [==============================] - 0s 24ms/step\n",
      "Predicted class: 18, Probability: 0.9999988079071045, Class: 5h\n",
      "1/1 [==============================] - 0s 24ms/step\n",
      "Predicted class: 18, Probability: 0.9999991655349731, Class: 5h\n",
      "1/1 [==============================] - 0s 24ms/step\n",
      "Predicted class: 19, Probability: 1.0, Class: 5s\n",
      "1/1 [==============================] - 0s 26ms/step\n",
      "Predicted class: 21, Probability: 0.9999992847442627, Class: 6d\n",
      "1/1 [==============================] - 0s 25ms/step\n",
      "Predicted class: 22, Probability: 0.997445821762085, Class: 6h\n",
      "1/1 [==============================] - 0s 25ms/step\n",
      "Predicted class: 22, Probability: 0.9999984502792358, Class: 6h\n",
      "1/1 [==============================] - 0s 25ms/step\n",
      "Predicted class: 24, Probability: 0.9999986886978149, Class: 7c\n",
      "1/1 [==============================] - 0s 24ms/step\n",
      "Predicted class: 26, Probability: 0.8535577058792114, Class: 7h\n",
      "1/1 [==============================] - 0s 26ms/step\n",
      "Predicted class: 1, Probability: 0.9973430037498474, Class: 10d\n",
      "1/1 [==============================] - 0s 24ms/step\n",
      "Predicted class: 26, Probability: 0.999990701675415, Class: 7h\n",
      "1/1 [==============================] - 0s 24ms/step\n",
      "Predicted class: 27, Probability: 0.7861514091491699, Class: 7s\n",
      "1/1 [==============================] - 0s 24ms/step\n",
      "Predicted class: 27, Probability: 0.9898152351379395, Class: 7s\n",
      "1/1 [==============================] - 0s 24ms/step\n",
      "Predicted class: 34, Probability: 1.0, Class: 9h\n",
      "1/1 [==============================] - 0s 23ms/step\n",
      "Predicted class: 36, Probability: 1.0, Class: Ac\n",
      "1/1 [==============================] - 0s 23ms/step\n",
      "Predicted class: 36, Probability: 0.9999963045120239, Class: Ac\n",
      "1/1 [==============================] - 0s 24ms/step\n",
      "Predicted class: 38, Probability: 0.9992647767066956, Class: Ah\n",
      "1/1 [==============================] - 0s 24ms/step\n",
      "Predicted class: 40, Probability: 0.9999446868896484, Class: Jc\n",
      "1/1 [==============================] - 0s 23ms/step\n",
      "Predicted class: 41, Probability: 0.9999759197235107, Class: Jd\n",
      "1/1 [==============================] - 0s 25ms/step\n",
      "Predicted class: 45, Probability: 0.998933732509613, Class: Kd\n",
      "1/1 [==============================] - 0s 24ms/step\n",
      "Predicted class: 42, Probability: 0.9993513226509094, Class: Jh\n",
      "1/1 [==============================] - 0s 23ms/step\n",
      "Predicted class: 44, Probability: 1.0, Class: Kc\n",
      "1/1 [==============================] - 0s 24ms/step\n",
      "Predicted class: 50, Probability: 0.9964215755462646, Class: Qh\n",
      "1/1 [==============================] - 0s 24ms/step\n",
      "Predicted class: 44, Probability: 0.4159398376941681, Class: Kc\n",
      "[('10c', '10c'), ('10d', '10d'), ('2c', '2h'), ('2c', '2c'), ('2s', '2s'), ('3h', '3h'), ('3s', '3s'), ('4c', '4c'), ('4s', '4s'), ('5h', '5h'), ('5h', '5h'), ('5s', '5s'), ('6d', '6d'), ('6h', '6h'), ('6h', '6h'), ('7c', '7c'), ('7c', '7h'), ('7d', '10d'), ('7h', '7h'), ('7s', '7s'), ('7s', '7s'), ('9h', '9h'), ('Ac', 'Ac'), ('Ac', 'Ac'), ('Ad', 'Ah'), ('Jc', 'Jc'), ('Jd', 'Jd'), ('Jh', 'Kd'), ('Jh', 'Jh'), ('Kc', 'Kc'), ('Qh', 'Qh'), ('Qs', 'Kc')]\n",
      "overall accuracy is 81.25%. So 26 correct out of 32\n"
     ]
    }
   ],
   "source": [
    "holdout_set(model)"
   ]
  }
 ],
 "metadata": {
  "kernelspec": {
   "display_name": "Python 3 (ipykernel)",
   "language": "python",
   "name": "python3"
  },
  "language_info": {
   "codemirror_mode": {
    "name": "ipython",
    "version": 3
   },
   "file_extension": ".py",
   "mimetype": "text/x-python",
   "name": "python",
   "nbconvert_exporter": "python",
   "pygments_lexer": "ipython3",
   "version": "3.9.18"
  }
 },
 "nbformat": 4,
 "nbformat_minor": 5
}
