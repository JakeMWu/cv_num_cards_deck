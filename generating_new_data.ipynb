{
 "cells": [
  {
   "cell_type": "markdown",
   "id": "d1c43a7d-6e57-4ad0-8449-5bbfeba6b462",
   "metadata": {},
   "source": [
    "# Generating data through data augmentation"
   ]
  },
  {
   "cell_type": "code",
   "execution_count": null,
   "id": "0cb663e2-f57c-4bb0-95bd-30679d85608a",
   "metadata": {},
   "outputs": [],
   "source": [
    "import os\n",
    "import numpy as np\n",
    "import tensorflow as tf\n",
    "from PIL import Image\n",
    "from sklearn.utils import shuffle\n",
    "import time"
   ]
  },
  {
   "cell_type": "code",
   "execution_count": 2,
   "id": "3ec43957-42a4-448a-b3cd-66931afb5087",
   "metadata": {},
   "outputs": [],
   "source": [
    "def delete_augmented_images():\n",
    "    \"\"\"\n",
    "    Deletes all augmented images\n",
    "    \"\"\"\n",
    "    directory = '52kards'\n",
    "    for card in os.listdir(directory):\n",
    "        card_path = os.path.join(directory, card)\n",
    "        if os.path.isdir(card_path):\n",
    "            # Loop through each file in the card directory\n",
    "            for filename in os.listdir(card_path):\n",
    "                if 'aug' in filename:\n",
    "                    # If 'aug' is in the filename, construct the full path and delete the file\n",
    "                    file_path = os.path.join(card_path, filename)\n",
    "                    os.remove(file_path)"
   ]
  },
  {
   "cell_type": "code",
   "execution_count": 3,
   "id": "9e1b084d-fd62-4ce2-a570-f234a7131d5e",
   "metadata": {},
   "outputs": [],
   "source": [
    "def delete_ordinary_images():\n",
    "    \"\"\"\n",
    "    Deletes all non-augmented images. This is important as our generator will generator for\n",
    "    each augmented image. It's also important to ensure they don't remain in the dataset as \n",
    "    they probably require different preprocessing (double check this is the case)\n",
    "    \"\"\"\n",
    "    directory = '52kards'\n",
    "    for card in os.listdir(directory):\n",
    "        card_path = os.path.join(directory, card)\n",
    "        if os.path.isdir(card_path):\n",
    "            # Loop through each file in the card directory\n",
    "            for filename in os.listdir(card_path):\n",
    "                if 'aug' not in filename:\n",
    "                    # If 'aug' is in the filename, construct the full path and delete the file\n",
    "                    file_path = os.path.join(card_path, filename)\n",
    "                    os.remove(file_path)"
   ]
  },
  {
   "cell_type": "code",
   "execution_count": 5,
   "id": "11b1cb93-062e-4e70-9253-413ad06f2ace",
   "metadata": {},
   "outputs": [],
   "source": [
    "# delete_ordinary_images()"
   ]
  },
  {
   "cell_type": "code",
   "execution_count": 6,
   "id": "c12b584a-49d3-4f0c-8581-efc26d8b2680",
   "metadata": {},
   "outputs": [],
   "source": [
    "def gen_img(path): \n",
    "    \"\"\"\n",
    "    for each given folder takes each non-augmented image and generates\n",
    "    a number of images with random transformations \n",
    "    \"\"\"\n",
    "    for i, img_filename in enumerate(os.listdir('52kards/' + path)): #'52kards/2c'\n",
    "        if 'aug' in img_filename:\n",
    "            continue # not making further augmented images based on the existing augmented images \n",
    "        label = i\n",
    "        img_path = os.path.join('52kards/' + path, img_filename)\n",
    "        # grayscale, probably worth pursuing \n",
    "        img = Image.open(img_path)#.convert('L')\n",
    "\n",
    "        img = img.resize((224, 224))\n",
    "\n",
    "        # convert image to numpy array\n",
    "        img_np = np.array(img)\n",
    "\n",
    "        # expand dimensions to add batch size of 1\n",
    "        img_np = np.expand_dims(img_np, axis=0)\n",
    "        # img_np = np.expand_dims(img_np, axis=-1)  # Add an extra dimension for channels if converted to greyscale\n",
    "\n",
    "        # data augmentation configuration\n",
    "        data_augmentation = tf.keras.Sequential([\n",
    "            tf.keras.layers.Rescaling(1./255), # Ensure images are normalized\n",
    "            tf.keras.layers.RandomRotation(0.5),  # 180 degrees, important for cards not horizontally symmetrical (vertically?)\n",
    "            tf.keras.layers.RandomZoom(height_factor=(-0.1, 0.1), width_factor=(-0.1, 0.1)),\n",
    "            tf.keras.layers.RandomBrightness(-0.4)  # Adjust the max delta\n",
    "        ])\n",
    "\n",
    "        for j in range(70): # range(750)\n",
    "            img_transformed = data_augmentation(img_np, training=True).numpy() # Apply data augmentation\n",
    "            epsilon = 1e-6\n",
    "            if np.all(img_transformed <= epsilon): # don't save black images \n",
    "                pass\n",
    "            else:\n",
    "                # Convert the augmented image tensor back to a PIL Image\n",
    "                img_transformed_pil = Image.fromarray((img_transformed.squeeze() * 255).astype(np.uint8))\n",
    "\n",
    "                # Save the augmented image\n",
    "                augmented_image_path = os.path.join('52kards/' + path, f'{img_filename[:-4]}_aug_{j:03}.png')\n",
    "                img_transformed_pil.save(augmented_image_path)"
   ]
  },
  {
   "cell_type": "code",
   "execution_count": 7,
   "id": "75fbc62e-4721-4ed9-8074-5872668287fa",
   "metadata": {},
   "outputs": [],
   "source": [
    "import logging\n",
    "\n",
    "# Suppress TensorFlow warnings\n",
    "tf.get_logger().setLevel(logging.ERROR)"
   ]
  },
  {
   "cell_type": "code",
   "execution_count": 8,
   "id": "6657911d-5ae9-4fcb-b7f7-a0e369ff3ada",
   "metadata": {},
   "outputs": [
    {
     "name": "stdout",
     "output_type": "stream",
     "text": [
      "0.014002561569213867\n"
     ]
    }
   ],
   "source": [
    "start = time.time()\n",
    "for card in os.listdir('52kards'):\n",
    "    gen_img(card)\n",
    "\n",
    "end = time.time()\n",
    "print(end-start)"
   ]
  }
 ],
 "metadata": {
  "kernelspec": {
   "display_name": "Python 3 (ipykernel)",
   "language": "python",
   "name": "python3"
  },
  "language_info": {
   "codemirror_mode": {
    "name": "ipython",
    "version": 3
   },
   "file_extension": ".py",
   "mimetype": "text/x-python",
   "name": "python",
   "nbconvert_exporter": "python",
   "pygments_lexer": "ipython3",
   "version": "3.9.18"
  }
 },
 "nbformat": 4,
 "nbformat_minor": 5
}
